{
 "cells": [
  {
   "cell_type": "code",
   "execution_count": null,
   "id": "80ce7968",
   "metadata": {
    "vscode": {
     "languageId": "plaintext"
    }
   },
   "outputs": [],
   "source": [
    "# Install transformers, tf-keras, torch\n",
    "# - pip install transformers tf-keras torch\n",
    "\n",
    "from transformers import pipeline\n",
    "# references\n",
    "# https://huggingface.co/docs/transformers/en/main_classes/pipelines\n",
    "# initialize a question-answering pipeline with a pre-trained model\n",
    "qa_pipeline = pipeline(\"question-answering\", model=\"distilbert-base-uncased-distilled-squad\")\n",
    "# define your context and question\n",
    "context = \"Hugging Face is a technology company that provides open-source NLP libraries ...\"\n",
    "question = \"What does Hugging Face provide?\"\n",
    "# let the pipeline find the best answer based on the context provided\n",
    "answer = qa_pipeline(question=question, context=context)\n",
    "print(f\"Question: {question}\")\n",
    "print(f\"Answer: {answer['answer']}\")"
   ]
  }
 ],
 "metadata": {
  "language_info": {
   "name": "python"
  }
 },
 "nbformat": 4,
 "nbformat_minor": 5
}
